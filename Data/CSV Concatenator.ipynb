{
 "cells": [
  {
   "cell_type": "markdown",
   "id": "9f64e0cc",
   "metadata": {},
   "source": [
    "## This file will navigate to a directory with multiple CSVs and compile ALL of them into 1 master CSV, with the header"
   ]
  },
  {
   "cell_type": "code",
   "execution_count": 2,
   "id": "5cd44abc",
   "metadata": {},
   "outputs": [],
   "source": [
    "from tqdm.notebook import tqdm"
   ]
  },
  {
   "cell_type": "code",
   "execution_count": 6,
   "id": "9b084662",
   "metadata": {},
   "outputs": [
    {
     "data": {
      "application/vnd.jupyter.widget-view+json": {
       "model_id": "e69aec683a6e4a88852a6725d8645a3d",
       "version_major": 2,
       "version_minor": 0
      },
      "text/plain": [
       "  0%|          | 0/7 [00:00<?, ?it/s]"
      ]
     },
     "metadata": {},
     "output_type": "display_data"
    }
   ],
   "source": [
    "# import dependencies\n",
    "import pandas as pd\n",
    "import os\n",
    "import glob\n",
    "\n",
    "path1 = 'Split_CSVs/Complete/tester/' \n",
    "path1_files = glob.glob(os.path.join(path1, \"*.xlsx\"))\n",
    "joined_df = pd.concat((pd.read_excel(f) for f in tqdm(path1_files))).drop_duplicates().reset_index(drop=True)\n",
    "joined_df.to_csv('Split_CSVs/Complete/tester/data_clean.csv')"
   ]
  }
 ],
 "metadata": {
  "kernelspec": {
   "display_name": "Python 3 (ipykernel)",
   "language": "python",
   "name": "python3"
  },
  "language_info": {
   "codemirror_mode": {
    "name": "ipython",
    "version": 3
   },
   "file_extension": ".py",
   "mimetype": "text/x-python",
   "name": "python",
   "nbconvert_exporter": "python",
   "pygments_lexer": "ipython3",
   "version": "3.9.12"
  }
 },
 "nbformat": 4,
 "nbformat_minor": 5
}
