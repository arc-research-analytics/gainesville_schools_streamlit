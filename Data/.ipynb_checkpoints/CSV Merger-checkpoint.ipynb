{
 "cells": [
  {
   "cell_type": "code",
   "execution_count": 2,
   "id": "cdc43d11-f4b4-4f4a-9ad6-3d132e7c78c0",
   "metadata": {},
   "outputs": [],
   "source": [
    "import os\n",
    "import pandas as pd\n",
    "from functools import reduce"
   ]
  },
  {
   "cell_type": "code",
   "execution_count": null,
   "id": "aacfd8f0-2ba3-430d-8501-51074fe5c4bf",
   "metadata": {},
   "outputs": [],
   "source": [
    "path1 = 'Tabular/Esri/' \n",
    "\n",
    "path1_files = glob.glob(os.path.join(path1, \"*.xlsx\"))\n",
    "\n",
    "iles = ['econ_risk_zip.csv', 'food_risk_zip.csv',\n",
    "         'health_risk_zip.csv', 'housing_risk_zip.csv']\n",
    "\n",
    "df = reduce(lambda l,r: l.merge(r, on='zip'), [pd.read_csv(f) for f in files])\n"
   ]
  }
 ],
 "metadata": {
  "kernelspec": {
   "display_name": "arc_env",
   "language": "python",
   "name": "arc_env"
  },
  "language_info": {
   "codemirror_mode": {
    "name": "ipython",
    "version": 3
   },
   "file_extension": ".py",
   "mimetype": "text/x-python",
   "name": "python",
   "nbconvert_exporter": "python",
   "pygments_lexer": "ipython3",
   "version": "3.10.6"
  }
 },
 "nbformat": 4,
 "nbformat_minor": 5
}
