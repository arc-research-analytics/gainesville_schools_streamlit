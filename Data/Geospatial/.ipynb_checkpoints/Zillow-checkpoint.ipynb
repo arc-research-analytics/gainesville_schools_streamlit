{
 "cells": [
  {
   "cell_type": "code",
   "execution_count": 70,
   "id": "4d9925b0-43c1-4625-a236-fb8770facfe4",
   "metadata": {},
   "outputs": [],
   "source": [
    "import pandas as pd\n",
    "import numpy as np\n",
    "import os\n",
    "os.environ['USE_PYGEOS'] = '0'\n",
    "import geopandas"
   ]
  },
  {
   "cell_type": "code",
   "execution_count": 7,
   "id": "bea183dd-af4e-49c5-bf23-24b6dd684262",
   "metadata": {},
   "outputs": [
    {
     "name": "stdout",
     "output_type": "stream",
     "text": [
      "Gainesville_background.geojson\n",
      "Gainesville_BG.gpkg\n"
     ]
    }
   ],
   "source": [
    "files = [f for f in os.listdir('.') if os.path.isfile(f)]\n",
    "for f in files:\n",
    "    print(f)"
   ]
  },
  {
   "cell_type": "code",
   "execution_count": 84,
   "id": "3c55ca36-234f-4737-8e2b-4b6032760aa7",
   "metadata": {},
   "outputs": [
    {
     "data": {
      "text/plain": [
       "GEOID                            int64\n",
       "zestimate_median               float64\n",
       "median_30_change               float64\n",
       "zestimate_30_DayDelta_count     object\n",
       "dtype: object"
      ]
     },
     "execution_count": 84,
     "metadata": {},
     "output_type": "execute_result"
    }
   ],
   "source": [
    "df = pd.read_csv('../Tabular/Gainesville_Zillowdata.csv')\n",
    "\n",
    "gdf = gpd.GeoDataFrame(\n",
    "    df, \n",
    "    geometry=geopandas.points_from_xy(df['long'], df['lat']), \n",
    "    crs=\"EPSG:4326\"\n",
    ")\n",
    "\n",
    "gdf = gdf.drop(columns=['Unnamed: 0', 'index', 'index_right'])\n",
    "\n",
    "\n",
    "block_groups = gpd.read_file('Gainesville_BG.gpkg')\n",
    "block_groups.crs = gdf.crs\n",
    "\n",
    "\n",
    "joined_df = gdf.sjoin(block_groups, how='left', predicate='within')\n",
    "\n",
    "joined_df = joined_df[['zpid', 'address', 'zestimate', 'zestimate_30_DayDelta', 'GEOID']]\n",
    "\n",
    "zillow_bg = joined_df.groupby('GEOID').agg({\n",
    "    'zestimate':'median',\n",
    "    'zestimate_30_DayDelta':['median','count']\n",
    "}).reset_index()\n",
    "\n",
    "zillow_bg.columns = [\"_\".join(a) for a in zillow_bg.columns.to_flat_index()]\n",
    "\n",
    "zillow_bg['zestimate_30_DayDelta_count'] = np.where(zillow_bg['zestimate_30_DayDelta_count'] < 10, 'Insufficient data', zillow_bg['zestimate_30_DayDelta_count'])\n",
    "\n",
    "\n",
    "zillow_bg.rename(columns={\n",
    "    'GEOID_':'GEOID',\n",
    "    'zestimate_30_DayDelta_median':'median_30_change'}, \n",
    "                 inplace=True)\n",
    "\n",
    "zillow_bg['GEOID'] = zillow_bg['GEOID'].astype(int)\n",
    "\n",
    "\n",
    "zillow_bg.dtypes"
   ]
  },
  {
   "cell_type": "code",
   "execution_count": 88,
   "id": "c98fba17-d6be-4acf-b211-ca2f1ed9335e",
   "metadata": {},
   "outputs": [],
   "source": [
    "df = pd.read_csv('../Gainesville_test.csv')\n",
    "\n",
    "df = df.merge(zillow_bg, left_on='Block Group', right_on='GEOID')\n",
    "\n",
    "df = df.drop(columns=['Unnamed: 0', 'GEOID', 'zestimate_30_DayDelta_count'])\n",
    "\n",
    "df.to_csv('../Gainesville_test2.csv')"
   ]
  }
 ],
 "metadata": {
  "kernelspec": {
   "display_name": "research_dev",
   "language": "python",
   "name": "research_dev"
  },
  "language_info": {
   "codemirror_mode": {
    "name": "ipython",
    "version": 3
   },
   "file_extension": ".py",
   "mimetype": "text/x-python",
   "name": "python",
   "nbconvert_exporter": "python",
   "pygments_lexer": "ipython3",
   "version": "3.10.4"
  }
 },
 "nbformat": 4,
 "nbformat_minor": 5
}
